{
 "cells": [
  {
   "cell_type": "code",
   "execution_count": 1,
   "id": "d3d4459d-7d61-4d42-a346-4384ed2d2c06",
   "metadata": {},
   "outputs": [
    {
     "name": "stdout",
     "output_type": "stream",
     "text": [
      "hello world\n"
     ]
    }
   ],
   "source": [
    "#CODING PART 1\n",
    "#MENCETAK KALIMAT\n",
    "print(\"hello world\")"
   ]
  },
  {
   "cell_type": "code",
   "execution_count": 4,
   "id": "eda55f8f-9a5e-4300-b632-497ce56089df",
   "metadata": {},
   "outputs": [
    {
     "name": "stdout",
     "output_type": "stream",
     "text": [
      "halo saya sabella oktaviana dari stmik dci tasikmalaya\n"
     ]
    }
   ],
   "source": [
    "print('halo saya sabella oktaviana dari stmik dci tasikmalaya')"
   ]
  },
  {
   "cell_type": "code",
   "execution_count": 5,
   "id": "a06c7b96-8677-4412-9d48-6b63998c39f0",
   "metadata": {},
   "outputs": [
    {
     "name": "stdout",
     "output_type": "stream",
     "text": [
      " besok hari jum'at\n"
     ]
    }
   ],
   "source": [
    "print(\" besok hari jum'at\")"
   ]
  },
  {
   "cell_type": "code",
   "execution_count": 6,
   "id": "d4e2e5bc-62d7-4575-81c4-69f189bf63a6",
   "metadata": {},
   "outputs": [
    {
     "name": "stdout",
     "output_type": "stream",
     "text": [
      "besok hari jum'at\n"
     ]
    }
   ],
   "source": [
    "print('besok hari jum\\'at')"
   ]
  },
  {
   "cell_type": "code",
   "execution_count": 7,
   "id": "1bcf57a6-1727-464f-bd45-c4983e02754e",
   "metadata": {},
   "outputs": [],
   "source": [
    "#MEMBUAT KOMENTAR\n",
    "#ini adalah program python (hasilnya tidak ada karna komentar tidak akan di proses oleh komputer, berguna untuk melihat dokumentasi pada program)"
   ]
  },
  {
   "cell_type": "code",
   "execution_count": 8,
   "id": "70faae72-d085-47ad-b19b-9a3f88ae422d",
   "metadata": {},
   "outputs": [
    {
     "name": "stdout",
     "output_type": "stream",
     "text": [
      "hallo coach\n",
      "aku sabella\n",
      "jangan lupa kasi nilai yang bagus yaaa xixi\n"
     ]
    }
   ],
   "source": [
    "#MULTIPLE CODE\n",
    "print('hallo coach')\n",
    "print('aku sabella')\n",
    "print('jangan lupa kasi nilai yang bagus yaaa xixi')"
   ]
  },
  {
   "cell_type": "code",
   "execution_count": 10,
   "id": "eab7e537-35b9-4c8d-a433-0d387573055e",
   "metadata": {},
   "outputs": [
    {
     "name": "stdout",
     "output_type": "stream",
     "text": [
      "hallo coach aku sabella jangan lupa kasi nilai yang bagus yaaa xixi "
     ]
    }
   ],
   "source": [
    "print('hallo coach', end=' ')\n",
    "print('aku sabella', end=' ')\n",
    "print('jangan lupa kasi nilai yang bagus yaaa xixi', end=' ')"
   ]
  },
  {
   "cell_type": "code",
   "execution_count": 11,
   "id": "96a173f8-6bf2-4484-87bf-bbb41367f7e1",
   "metadata": {},
   "outputs": [
    {
     "name": "stdout",
     "output_type": "stream",
     "text": [
      "ini adalah sebuah tulisan yang sangat panjang sekali jadi tolong baca dengan teliti supaya kamu bisa mengerti maksud dari tulisan ini\n"
     ]
    }
   ],
   "source": [
    "print(\"\"\"ini adalah sebuah tulisan yang sangat panjang sekali jadi tolong baca dengan teliti supaya kamu bisa mengerti maksud dari tulisan ini\"\"\")"
   ]
  },
  {
   "cell_type": "code",
   "execution_count": 12,
   "id": "192498cb-ac83-4e44-b5c3-5413b449664d",
   "metadata": {},
   "outputs": [
    {
     "name": "stdout",
     "output_type": "stream",
     "text": [
      "satu\n",
      "dua\n",
      "tiga\n"
     ]
    }
   ],
   "source": [
    "#CODING PART 2\n",
    "#ESCAPE CHARACTER\n",
    "print('satu\\ndua\\ntiga')"
   ]
  },
  {
   "cell_type": "code",
   "execution_count": 13,
   "id": "f5b8e0f1-37ca-4e22-883a-7b79540c047c",
   "metadata": {},
   "outputs": [
    {
     "name": "stdout",
     "output_type": "stream",
     "text": [
      "nama : sabella\n",
      "tempat tinggal : tasikmalaya\n"
     ]
    }
   ],
   "source": [
    "print('nama : sabella')\n",
    "print('tempat tinggal : tasikmalaya')"
   ]
  },
  {
   "cell_type": "code",
   "execution_count": 15,
   "id": "d839356d-d11f-4b5b-ba7b-f94527bac8ce",
   "metadata": {},
   "outputs": [
    {
     "name": "stdout",
     "output_type": "stream",
     "text": [
      "nama\t\t : sabella\n",
      "tempat tinggal\t : tasikmalaya\n"
     ]
    }
   ],
   "source": [
    "print('nama\\t\\t : sabella')\n",
    "print('tempat tinggal\\t : tasikmalaya')"
   ]
  },
  {
   "cell_type": "code",
   "execution_count": 16,
   "id": "d995797e-f75d-464b-bfb1-a3bdaaaa331c",
   "metadata": {},
   "outputs": [
    {
     "name": "stdout",
     "output_type": "stream",
     "text": [
      "\\\n"
     ]
    }
   ],
   "source": [
    "print('\\\\')"
   ]
  },
  {
   "cell_type": "code",
   "execution_count": 17,
   "id": "01962cad-4723-4001-a76c-89d877597be6",
   "metadata": {},
   "outputs": [
    {
     "name": "stdin",
     "output_type": "stream",
     "text": [
      "Masukan Nama :  sabella\n"
     ]
    },
    {
     "data": {
      "text/plain": [
       "'sabella'"
      ]
     },
     "execution_count": 17,
     "metadata": {},
     "output_type": "execute_result"
    }
   ],
   "source": [
    "#INPUT\n",
    "input('Masukan Nama :')"
   ]
  },
  {
   "cell_type": "code",
   "execution_count": 19,
   "id": "f59df6b1-35da-47ed-8a8e-7dcf873fd2da",
   "metadata": {},
   "outputs": [
    {
     "name": "stdin",
     "output_type": "stream",
     "text": [
      "Masukkan Nama : Sabella Oktaviana\n",
      "Masukkan Tempat Tinggal : Tasikmalaya\n",
      "Masukkan Hobi : Menyanyi\n",
      "Masukkan Jenis Kelamin : Perempuan\n"
     ]
    },
    {
     "data": {
      "text/plain": [
       "'Perempuan'"
      ]
     },
     "execution_count": 19,
     "metadata": {},
     "output_type": "execute_result"
    }
   ],
   "source": [
    "input('Masukkan Nama :')\n",
    "input('Masukkan Tempat Tinggal :')\n",
    "input('Masukkan Hobi :')\n",
    "input('Masukkan Jenis Kelamin :')"
   ]
  },
  {
   "cell_type": "code",
   "execution_count": 20,
   "id": "bbf715d5-f9b9-4d6d-8ba4-3819b0c7154e",
   "metadata": {},
   "outputs": [
    {
     "name": "stdin",
     "output_type": "stream",
     "text": [
      "Masukkan Nama\t\t : Sabella Oktaviana\n",
      "Masukkan Tempat Tinggal\t : tasikmalaya\n",
      "Masukkan Hobi\t\t : Menyanyi\n",
      "Masukkan Jenis Kelamin\t : Perempuan\n"
     ]
    },
    {
     "data": {
      "text/plain": [
       "'Perempuan'"
      ]
     },
     "execution_count": 20,
     "metadata": {},
     "output_type": "execute_result"
    }
   ],
   "source": [
    "input('Masukkan Nama\\t\\t :')\n",
    "input('Masukkan Tempat Tinggal\\t :')\n",
    "input('Masukkan Hobi\\t\\t :')\n",
    "input('Masukkan Jenis Kelamin\\t :')"
   ]
  },
  {
   "cell_type": "code",
   "execution_count": null,
   "id": "15fa6bbe-bde4-4f60-995b-f661b484b667",
   "metadata": {},
   "outputs": [],
   "source": []
  }
 ],
 "metadata": {
  "kernelspec": {
   "display_name": "Python 3 (ipykernel)",
   "language": "python",
   "name": "python3"
  },
  "language_info": {
   "codemirror_mode": {
    "name": "ipython",
    "version": 3
   },
   "file_extension": ".py",
   "mimetype": "text/x-python",
   "name": "python",
   "nbconvert_exporter": "python",
   "pygments_lexer": "ipython3",
   "version": "3.12.5"
  }
 },
 "nbformat": 4,
 "nbformat_minor": 5
}
