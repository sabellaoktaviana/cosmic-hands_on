{
 "cells": [
  {
   "cell_type": "code",
   "execution_count": 3,
   "id": "51719e6b-9291-463a-930f-5c191e092a09",
   "metadata": {},
   "outputs": [
    {
     "name": "stdout",
     "output_type": "stream",
     "text": [
      "kode terseksekusi\n"
     ]
    }
   ],
   "source": [
    "#FLOW CONTROL CONDITIONAL\n",
    "#IF STATEMENT\n",
    "condition = True\n",
    "if(condition):\n",
    "    print('kode terseksekusi')"
   ]
  },
  {
   "cell_type": "code",
   "execution_count": 7,
   "id": "0367e700-0c39-40be-ae20-96a6a0ce108c",
   "metadata": {},
   "outputs": [
    {
     "name": "stdout",
     "output_type": "stream",
     "text": [
      "angka lebih dari sama dengan nol\n"
     ]
    }
   ],
   "source": [
    "angka = 1\n",
    "if(angka >= 0):\n",
    "    print('angka lebih dari sama dengan nol')"
   ]
  },
  {
   "cell_type": "code",
   "execution_count": 9,
   "id": "edd8f767-30e5-426a-b6d5-7aed261bb8bb",
   "metadata": {},
   "outputs": [
    {
     "name": "stdout",
     "output_type": "stream",
     "text": [
      "angka merupakan bilangan antara nol sampai sembilan\n"
     ]
    }
   ],
   "source": [
    "angka = 9\n",
    "if(angka >= 0 and angka <=9):\n",
    "    print('angka merupakan bilangan antara nol sampai sembilan')"
   ]
  },
  {
   "cell_type": "code",
   "execution_count": 13,
   "id": "0688c79b-3cc6-4e36-8d6f-9edf08b6e1df",
   "metadata": {},
   "outputs": [
    {
     "name": "stdout",
     "output_type": "stream",
     "text": [
      "kodisi false\n"
     ]
    }
   ],
   "source": [
    "condition = False\n",
    "if condition:\n",
    "    print('kodisi True')\n",
    "else:\n",
    "    print('kodisi false')"
   ]
  },
  {
   "cell_type": "code",
   "execution_count": 20,
   "id": "130edaa4-7eaf-4bea-b16c-b015f90e231d",
   "metadata": {},
   "outputs": [
    {
     "name": "stdout",
     "output_type": "stream",
     "text": [
      "angka bukan termasuk bilangan 0 sampai 9\n"
     ]
    }
   ],
   "source": [
    "angka =100\n",
    "if angka >=0 and angka <10:\n",
    "    print(\"amgka merupakan bilangan 0 sampai 9\")\n",
    "else:\n",
    "    print(\"angka bukan termasuk bilangan 0 sampai 9\")"
   ]
  },
  {
   "cell_type": "code",
   "execution_count": 28,
   "id": "bd85047b-ac19-4f49-b16c-7737c725517e",
   "metadata": {},
   "outputs": [
    {
     "name": "stdout",
     "output_type": "stream",
     "text": [
      "pilihan kedua di eksekusi\n"
     ]
    }
   ],
   "source": [
    "#IF ELIF ELSE STATEMENT\n",
    "condition1 = False\n",
    "condition2 = True\n",
    "if condition1:\n",
    "    print('pilihan pertama di eksekusi')\n",
    "elif condition2:\n",
    "    print('pilihan kedua di eksekusi')\n",
    "else:\n",
    "    print('alternatif pilihan terakhir di eksekusi')"
   ]
  },
  {
   "cell_type": "code",
   "execution_count": 38,
   "id": "4b0609a9-ab65-4fc8-b543-510f2847afe0",
   "metadata": {},
   "outputs": [],
   "source": [
    "#NESTED CONDITIONAL\n",
    "nilai = 70\n",
    "presensi = 70\n",
    "\n",
    "if nilai > 50:\n",
    "    if presensi >70:\n",
    "        print('lulus')\n",
    "    elif presensi <70:\n",
    "        print('lulus bersyarat')"
   ]
  },
  {
   "cell_type": "code",
   "execution_count": 40,
   "id": "c17de829-58b5-48f6-ba2e-49500682c8d3",
   "metadata": {},
   "outputs": [
    {
     "name": "stdout",
     "output_type": "stream",
     "text": [
      "block of code dieksekusi\n"
     ]
    }
   ],
   "source": [
    "#LOOPS\n",
    "#WHILE LOOPS\n",
    "condition = True\n",
    "print('block of code dieksekusi')\n",
    "condition = False"
   ]
  },
  {
   "cell_type": "code",
   "execution_count": 1,
   "id": "014419a4-1b9e-427a-9606-bb3244133f89",
   "metadata": {},
   "outputs": [
    {
     "name": "stdout",
     "output_type": "stream",
     "text": [
      "F\n",
      "a\n",
      "u\n",
      "z\n",
      "a\n",
      "n\n"
     ]
    }
   ],
   "source": [
    "for i in \"Fauzan\":\n",
    "    print(i)"
   ]
  },
  {
   "cell_type": "code",
   "execution_count": 15,
   "id": "d8391ba2-9364-4838-a65a-324ba23f0de4",
   "metadata": {},
   "outputs": [
    {
     "name": "stdout",
     "output_type": "stream",
     "text": [
      "merah\n",
      "jingga\n",
      "hijau\n",
      "biru\n",
      "umgu\n"
     ]
    }
   ],
   "source": [
    "colors =['merah','jingga','hijau','biru','umgu']\n",
    "for color in colors:\n",
    "    print(color)"
   ]
  },
  {
   "cell_type": "code",
   "execution_count": 34,
   "id": "2497a58e-de97-4946-94d7-cb2790e3909a",
   "metadata": {},
   "outputs": [
    {
     "name": "stdout",
     "output_type": "stream",
     "text": [
      "mangga : 20\n",
      "apel : 15\n",
      "jeruk : 13\n"
     ]
    }
   ],
   "source": [
    "fruits ={'mangga':20, 'apel': 15, 'jeruk':13}\n",
    "for fruit in fruits:\n",
    "    print(fruit,':' ,fruits[fruit])"
   ]
  },
  {
   "cell_type": "code",
   "execution_count": 42,
   "id": "24501606-b0eb-482c-b701-95d421047612",
   "metadata": {},
   "outputs": [
    {
     "name": "stdout",
     "output_type": "stream",
     "text": [
      "80\n",
      "150\n",
      "240\n",
      "rata-rata: 60.0\n"
     ]
    }
   ],
   "source": [
    "scores =[80,70,90]\n",
    "total =0\n",
    "for score in scores:\n",
    "    total = total+score\n",
    "    print(total)\n",
    "\n",
    "print(\"rata-rata:\", total/4)\n",
    "    "
   ]
  },
  {
   "cell_type": "code",
   "execution_count": 44,
   "id": "f87ffd95-6ea7-4806-88a8-bc5c68e60518",
   "metadata": {},
   "outputs": [
    {
     "name": "stdout",
     "output_type": "stream",
     "text": [
      "0\n",
      "1\n",
      "2\n",
      "3\n",
      "4\n",
      "5\n",
      "6\n",
      "7\n",
      "8\n",
      "9\n",
      "10\n",
      "11\n",
      "12\n",
      "13\n",
      "14\n",
      "15\n",
      "16\n",
      "17\n",
      "18\n",
      "19\n",
      "20\n"
     ]
    }
   ],
   "source": [
    "for i in range(21):\n",
    "    print(i)"
   ]
  },
  {
   "cell_type": "code",
   "execution_count": 46,
   "id": "1f22ca83-0997-4a23-9f0a-6a8e784d0f5d",
   "metadata": {},
   "outputs": [
    {
     "name": "stdout",
     "output_type": "stream",
     "text": [
      "0\n",
      "2\n",
      "4\n",
      "6\n",
      "8\n",
      "10\n",
      "12\n",
      "14\n",
      "16\n",
      "18\n",
      "20\n",
      "22\n",
      "24\n",
      "26\n",
      "28\n",
      "30\n",
      "32\n",
      "34\n",
      "36\n",
      "38\n",
      "40\n"
     ]
    }
   ],
   "source": [
    "for i in range(21):\n",
    "    print(i*2)"
   ]
  },
  {
   "cell_type": "code",
   "execution_count": 52,
   "id": "b28a3010-b212-4f81-9f89-b6a56e2e9cc6",
   "metadata": {},
   "outputs": [
    {
     "name": "stdout",
     "output_type": "stream",
     "text": [
      "0 0\n",
      "0 1\n",
      "0 2\n",
      "0 3\n",
      "0 4\n",
      "1 0\n",
      "1 1\n",
      "1 2\n",
      "1 3\n",
      "1 4\n",
      "2 0\n",
      "2 1\n",
      "2 2\n",
      "2 3\n",
      "2 4\n"
     ]
    }
   ],
   "source": [
    "#NESTED LOOPS\n",
    "for i in range(0,3):\n",
    "    for j in range(0,5):\n",
    "        print(i,j)"
   ]
  },
  {
   "cell_type": "code",
   "execution_count": null,
   "id": "1ca9d345-cfc0-4e83-9481-0c39b67b2b9e",
   "metadata": {},
   "outputs": [],
   "source": []
  }
 ],
 "metadata": {
  "kernelspec": {
   "display_name": "Python 3 (ipykernel)",
   "language": "python",
   "name": "python3"
  },
  "language_info": {
   "codemirror_mode": {
    "name": "ipython",
    "version": 3
   },
   "file_extension": ".py",
   "mimetype": "text/x-python",
   "name": "python",
   "nbconvert_exporter": "python",
   "pygments_lexer": "ipython3",
   "version": "3.12.4"
  }
 },
 "nbformat": 4,
 "nbformat_minor": 5
}
