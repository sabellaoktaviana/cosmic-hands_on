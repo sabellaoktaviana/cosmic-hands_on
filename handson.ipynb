{
 "cells": [
  {
   "cell_type": "code",
   "execution_count": 5,
   "id": "60edba42-69e1-48fa-af45-30d98250572f",
   "metadata": {},
   "outputs": [],
   "source": [
    "def greet(name):\n",
    "    return'nice to meet you'+name"
   ]
  },
  {
   "cell_type": "code",
   "execution_count": 21,
   "id": "ea655823-5225-4a25-9192-e3ca57149099",
   "metadata": {},
   "outputs": [
    {
     "name": "stdout",
     "output_type": "stream",
     "text": [
      "nice to meet you sabella\n"
     ]
    }
   ],
   "source": [
    "  print(greet(' sabella'))"
   ]
  },
  {
   "cell_type": "code",
   "execution_count": 15,
   "id": "52e3fe94-8946-4557-a985-a8ff3eab4970",
   "metadata": {},
   "outputs": [],
   "source": [
    "#LAMBDA\n",
    "hitung_luas_persegi = lambda s:s*s"
   ]
  },
  {
   "cell_type": "code",
   "execution_count": 17,
   "id": "ea80bd1f-b730-4a1a-bb0d-650b4efb5482",
   "metadata": {},
   "outputs": [
    {
     "data": {
      "text/plain": [
       "64"
      ]
     },
     "execution_count": 17,
     "metadata": {},
     "output_type": "execute_result"
    }
   ],
   "source": [
    "hitung_luas_persegi(8)"
   ]
  },
  {
   "cell_type": "code",
   "execution_count": null,
   "id": "8b552208-8125-4219-a29c-bb8f7271f8a2",
   "metadata": {},
   "outputs": [],
   "source": []
  }
 ],
 "metadata": {
  "kernelspec": {
   "display_name": "Python 3 (ipykernel)",
   "language": "python",
   "name": "python3"
  },
  "language_info": {
   "codemirror_mode": {
    "name": "ipython",
    "version": 3
   },
   "file_extension": ".py",
   "mimetype": "text/x-python",
   "name": "python",
   "nbconvert_exporter": "python",
   "pygments_lexer": "ipython3",
   "version": "3.12.4"
  }
 },
 "nbformat": 4,
 "nbformat_minor": 5
}
