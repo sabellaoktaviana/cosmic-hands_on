{
 "cells": [
  {
   "cell_type": "code",
   "execution_count": 25,
   "id": "9a22c1c1-e2be-4d91-827f-079fff1796ea",
   "metadata": {},
   "outputs": [
    {
     "name": "stdout",
     "output_type": "stream",
     "text": [
      "{'Indonesia': 'Ina', 'United States': 'USA', 'India': 'Ind'}\n"
     ]
    }
   ],
   "source": [
    "#DICTIONARY\n",
    "kode_negara ={'Indonesia':'Ina','United States':'USA','India':'Ind'}\n",
    "print(kode_negara)"
   ]
  },
  {
   "cell_type": "code",
   "execution_count": 14,
   "id": "7d8a019a-848d-41be-946c-a8954f89f39a",
   "metadata": {},
   "outputs": [
    {
     "name": "stdout",
     "output_type": "stream",
     "text": [
      "<class 'dict'>\n"
     ]
    }
   ],
   "source": [
    "print(type(kode_negara))"
   ]
  },
  {
   "cell_type": "code",
   "execution_count": 18,
   "id": "cb9e33ce-5f87-43b7-919d-170fc06eb164",
   "metadata": {},
   "outputs": [
    {
     "name": "stdout",
     "output_type": "stream",
     "text": [
      "Ind\n"
     ]
    }
   ],
   "source": [
    "print(kode_negara ['India'])"
   ]
  },
  {
   "cell_type": "code",
   "execution_count": 23,
   "id": "965b486f-26e7-4571-b565-e87cc2b7ba51",
   "metadata": {},
   "outputs": [
    {
     "name": "stdout",
     "output_type": "stream",
     "text": [
      "{'Indonesia': 'Ina', 'United State': 'USA', 'India': 'Ind', 'China': 'chn'}\n"
     ]
    }
   ],
   "source": [
    "kode_negara['China']='chn'\n",
    "print(kode_negara)"
   ]
  },
  {
   "cell_type": "code",
   "execution_count": 27,
   "id": "a4046b9a-fe4b-4345-8a97-e4246500b646",
   "metadata": {},
   "outputs": [
    {
     "name": "stdout",
     "output_type": "stream",
     "text": [
      "{'Indonesia': 'Ina', 'India': 'Ind'}\n"
     ]
    }
   ],
   "source": [
    "del kode_negara['United States']\n",
    "print(kode_negara)"
   ]
  },
  {
   "cell_type": "code",
   "execution_count": 29,
   "id": "e319820f-056a-4d52-be02-e0c14b27966b",
   "metadata": {},
   "outputs": [
    {
     "name": "stdout",
     "output_type": "stream",
     "text": [
      "2\n"
     ]
    }
   ],
   "source": [
    "print (len(kode_negara))"
   ]
  },
  {
   "cell_type": "code",
   "execution_count": 31,
   "id": "ca27ed50-c156-4adb-b2db-d230346d5f67",
   "metadata": {},
   "outputs": [
    {
     "name": "stdout",
     "output_type": "stream",
     "text": [
      "True\n"
     ]
    }
   ],
   "source": [
    "print('Indonesia' in kode_negara)"
   ]
  },
  {
   "cell_type": "code",
   "execution_count": 33,
   "id": "163a4acd-2b42-418c-a135-27d628f4bce0",
   "metadata": {},
   "outputs": [
    {
     "name": "stdout",
     "output_type": "stream",
     "text": [
      "dict_keys(['Indonesia', 'India'])\n"
     ]
    }
   ],
   "source": [
    "kunci = kode_negara.keys()\n",
    "print(kunci)"
   ]
  },
  {
   "cell_type": "code",
   "execution_count": 35,
   "id": "1f47f430-9da9-48ab-8b4a-cd1c83638094",
   "metadata": {},
   "outputs": [
    {
     "name": "stdout",
     "output_type": "stream",
     "text": [
      "dict_values(['Ina', 'Ind'])\n"
     ]
    }
   ],
   "source": [
    "nilai = kode_negara.values()\n",
    "print(nilai)"
   ]
  },
  {
   "cell_type": "code",
   "execution_count": 37,
   "id": "d120f609-e539-4493-9b6b-6ccc896ab881",
   "metadata": {},
   "outputs": [
    {
     "name": "stdout",
     "output_type": "stream",
     "text": [
      "dict_items([('Indonesia', 'Ina'), ('India', 'Ind')])\n"
     ]
    }
   ],
   "source": [
    "pasangan = kode_negara.items()\n",
    "print(pasangan)"
   ]
  },
  {
   "cell_type": "code",
   "execution_count": 12,
   "id": "2d29f55f-094b-4a21-a1b3-c55dffe27d67",
   "metadata": {},
   "outputs": [
    {
     "ename": "NameError",
     "evalue": "name 'np' is not defined",
     "output_type": "error",
     "traceback": [
      "\u001b[1;31m---------------------------------------------------------------------------\u001b[0m",
      "\u001b[1;31mNameError\u001b[0m                                 Traceback (most recent call last)",
      "Cell \u001b[1;32mIn[12], line 3\u001b[0m\n\u001b[0;32m      1\u001b[0m \u001b[38;5;66;03m#NUMPY ARRAY\u001b[39;00m\n\u001b[0;32m      2\u001b[0m angka \u001b[38;5;241m=\u001b[39m [\u001b[38;5;241m12\u001b[39m,\u001b[38;5;241m15\u001b[39m,\u001b[38;5;241m10\u001b[39m,\u001b[38;5;241m-\u001b[39m\u001b[38;5;241m9\u001b[39m,\u001b[38;5;241m7\u001b[39m]\n\u001b[1;32m----> 3\u001b[0m number : np\u001b[38;5;241m.\u001b[39marray(angka)\n\u001b[0;32m      4\u001b[0m \u001b[38;5;28mprint\u001b[39m(number)\n\u001b[0;32m      5\u001b[0m \u001b[38;5;28mprint\u001b[39m(\u001b[38;5;28mtype\u001b[39m(angka))\n",
      "\u001b[1;31mNameError\u001b[0m: name 'np' is not defined"
     ]
    }
   ],
   "source": [
    "#NUMPY ARRAY\n",
    "angka = [12,15,10,-9,7]\n",
    "number = np.array(angka)\n",
    "print(number)\n",
    "print(type(angka))"
   ]
  },
  {
   "cell_type": "code",
   "execution_count": 9,
   "id": "bef0fe6b-23ea-4f45-a7c7-7e6994964481",
   "metadata": {},
   "outputs": [
    {
     "ename": "NameError",
     "evalue": "name 'np' is not defined",
     "output_type": "error",
     "traceback": [
      "\u001b[1;31m---------------------------------------------------------------------------\u001b[0m",
      "\u001b[1;31mNameError\u001b[0m                                 Traceback (most recent call last)",
      "Cell \u001b[1;32mIn[9], line 1\u001b[0m\n\u001b[1;32m----> 1\u001b[0m enol \u001b[38;5;241m=\u001b[39m np\u001b[38;5;241m.\u001b[39mzeros((\u001b[38;5;241m3\u001b[39m,\u001b[38;5;241m3\u001b[39m))\n\u001b[0;32m      2\u001b[0m \u001b[38;5;28mprint\u001b[39m(enol)\n",
      "\u001b[1;31mNameError\u001b[0m: name 'np' is not defined"
     ]
    }
   ],
   "source": [
    "enol = np.zeros((3,3))\n",
    "print(enol)"
   ]
  },
  {
   "cell_type": "code",
   "execution_count": null,
   "id": "fce71691-919f-4938-9563-2dee7bd376e5",
   "metadata": {},
   "outputs": [],
   "source": []
  },
  {
   "cell_type": "code",
   "execution_count": null,
   "id": "0b247a16-821c-4ca8-95f5-fb1a366c22ce",
   "metadata": {},
   "outputs": [],
   "source": []
  }
 ],
 "metadata": {
  "kernelspec": {
   "display_name": "Python 3 (ipykernel)",
   "language": "python",
   "name": "python3"
  },
  "language_info": {
   "codemirror_mode": {
    "name": "ipython",
    "version": 3
   },
   "file_extension": ".py",
   "mimetype": "text/x-python",
   "name": "python",
   "nbconvert_exporter": "python",
   "pygments_lexer": "ipython3",
   "version": "3.12.4"
  }
 },
 "nbformat": 4,
 "nbformat_minor": 5
}
