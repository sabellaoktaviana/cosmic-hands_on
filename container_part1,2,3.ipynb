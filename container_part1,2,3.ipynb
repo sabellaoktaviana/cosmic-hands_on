{
 "cells": [
  {
   "cell_type": "code",
   "execution_count": 7,
   "id": "3c3be926-f3af-4820-932f-3341b2637d87",
   "metadata": {},
   "outputs": [
    {
     "name": "stdout",
     "output_type": "stream",
     "text": [
      "['merah', 'hijau', 'hitam', 'pink']\n",
      "['Laskar Pelangi', 'Andrea Hirata', 2008, True, ['Drama', 'Family']]\n"
     ]
    }
   ],
   "source": [
    "#CONTAINER LIST\n",
    "#PART 1\n",
    "#MEMBUAT LIST\n",
    "warna =['merah','hijau','hitam','pink']\n",
    "novel =['Laskar Pelangi','Andrea Hirata',2008,True,['Drama', 'Family']]\n",
    "print(warna)\n",
    "print(novel)"
   ]
  },
  {
   "cell_type": "code",
   "execution_count": 8,
   "id": "23dfde8b-3710-4ff7-8691-87f4382bf877",
   "metadata": {},
   "outputs": [
    {
     "name": "stdout",
     "output_type": "stream",
     "text": [
      "hijau\n"
     ]
    }
   ],
   "source": [
    "#INDEXING\n",
    "print(warna[1])"
   ]
  },
  {
   "cell_type": "code",
   "execution_count": 9,
   "id": "d95e41e4-50f1-4533-b973-cbdfcc82fd29",
   "metadata": {},
   "outputs": [
    {
     "name": "stdout",
     "output_type": "stream",
     "text": [
      "hitam\n"
     ]
    }
   ],
   "source": [
    "print(warna[-2])"
   ]
  },
  {
   "cell_type": "code",
   "execution_count": 10,
   "id": "080115db-1e12-4584-958a-41b0a0de0626",
   "metadata": {},
   "outputs": [
    {
     "data": {
      "text/plain": [
       "1"
      ]
     },
     "execution_count": 10,
     "metadata": {},
     "output_type": "execute_result"
    }
   ],
   "source": [
    "warna.index('hijau')"
   ]
  },
  {
   "cell_type": "code",
   "execution_count": 13,
   "id": "1be21800-bda6-4d5d-a484-05e30eaa2adf",
   "metadata": {},
   "outputs": [
    {
     "name": "stdout",
     "output_type": "stream",
     "text": [
      "['hijau', 'hitam']\n"
     ]
    }
   ],
   "source": [
    "#SLICING\n",
    "#nama_list[index_awal : index_akhir+1]\n",
    "warna =['merah','hijau','hitam','pink']\n",
    "print(warna[1:3])"
   ]
  },
  {
   "cell_type": "code",
   "execution_count": 20,
   "id": "49986fe4-854d-4580-8f3c-1d96783d88eb",
   "metadata": {},
   "outputs": [
    {
     "name": "stdout",
     "output_type": "stream",
     "text": [
      "['hijau', 'hitam', 'pink']\n",
      "['merah', 'hijau', 'hitam', 'pink']\n"
     ]
    }
   ],
   "source": [
    "warna =['merah','hijau','hitam','pink']\n",
    "print(warna[1:])\n",
    "print(warna[:4])"
   ]
  },
  {
   "cell_type": "code",
   "execution_count": 23,
   "id": "7851f909-a3ab-4870-85dd-839df6b8e74b",
   "metadata": {},
   "outputs": [
    {
     "name": "stdout",
     "output_type": "stream",
     "text": [
      "['merah', 'putih', 'hitam', 'pink']\n"
     ]
    }
   ],
   "source": [
    "#MANIPULASI ELEMEN LIST\n",
    "#MENGGANTI ELEMEN\n",
    "warna =['merah','hijau','hitam','pink']\n",
    "warna[1]= 'putih'\n",
    "print(warna)"
   ]
  },
  {
   "cell_type": "code",
   "execution_count": 24,
   "id": "2a424580-69c5-43b0-9518-65310c4b4842",
   "metadata": {},
   "outputs": [
    {
     "name": "stdout",
     "output_type": "stream",
     "text": [
      "['merah', 'putih', 'hitam', 'pink', 'hitam']\n"
     ]
    }
   ],
   "source": [
    "#MENAMBAHKAN ELEMEN\n",
    "warna.append('hitam')\n",
    "print(warna)"
   ]
  },
  {
   "cell_type": "code",
   "execution_count": 25,
   "id": "69a1b11c-db13-45a8-b254-89bea7468ff8",
   "metadata": {},
   "outputs": [
    {
     "name": "stdout",
     "output_type": "stream",
     "text": [
      "5\n"
     ]
    }
   ],
   "source": [
    "#MENGETAHUI JUMLAH ELEMEN \n",
    "print(len(warna))"
   ]
  },
  {
   "cell_type": "code",
   "execution_count": 27,
   "id": "9d217ac5-2fd9-4157-8f0d-7ecdf12dd452",
   "metadata": {},
   "outputs": [
    {
     "name": "stdout",
     "output_type": "stream",
     "text": [
      "['merah', 'hijau', 'hitam', 'hitam']\n"
     ]
    }
   ],
   "source": [
    "#MENGHAPUS ELEMEN\n",
    "warna =['merah','hijau','hitam','pink','hitam']\n",
    "del(warna[3])\n",
    "print(warna)"
   ]
  },
  {
   "cell_type": "code",
   "execution_count": 28,
   "id": "754432d9-fc88-4323-a8fa-1ac3e9f1874e",
   "metadata": {},
   "outputs": [
    {
     "name": "stdout",
     "output_type": "stream",
     "text": [
      "[-10, -5, 20, 50, 80, 100]\n"
     ]
    }
   ],
   "source": [
    "#SORTIR\n",
    "nilai =[20,50,-10,80,100,-5]\n",
    "nilai.sort()\n",
    "print(nilai)"
   ]
  },
  {
   "cell_type": "code",
   "execution_count": 30,
   "id": "4dcadb5d-c763-449b-b458-b20bbdf945e8",
   "metadata": {},
   "outputs": [
    {
     "name": "stdout",
     "output_type": "stream",
     "text": [
      "[100, 80, 50, 20, -5, -10]\n"
     ]
    }
   ],
   "source": [
    "nilai.sort(reverse=True)\n",
    "print(nilai)"
   ]
  },
  {
   "cell_type": "code",
   "execution_count": 31,
   "id": "bb6a76e7-8b78-46de-95de-ba38788b8e76",
   "metadata": {},
   "outputs": [
    {
     "name": "stdout",
     "output_type": "stream",
     "text": [
      "['merah', 'hijau', 'hitam', 'pink']\n",
      "['Laskar Pelangi', 'Andrea Hirata', 2008, True, ['Drama', 'Family']]\n"
     ]
    }
   ],
   "source": [
    "#PART 2\n",
    "#MEMBUAT TUPLE\n",
    "warna =['merah','hijau','hitam','pink']\n",
    "novel =['Laskar Pelangi','Andrea Hirata',2008,True,['Drama', 'Family']]\n",
    "print(warna)\n",
    "print(novel)"
   ]
  },
  {
   "cell_type": "code",
   "execution_count": 33,
   "id": "86d35eb0-d479-4ab8-8c68-573722a2dde5",
   "metadata": {},
   "outputs": [
    {
     "name": "stdout",
     "output_type": "stream",
     "text": [
      "('jakarta', 'bandung', 'tasikmalaya', 'bogor')\n"
     ]
    }
   ],
   "source": [
    "#MERUBAH DARI LIST KE TUPLE\n",
    "kota =['jakarta','bandung','tasikmalaya','bogor']\n",
    "kota =tuple(kota)\n",
    "print(kota)"
   ]
  },
  {
   "cell_type": "code",
   "execution_count": 35,
   "id": "80b8a9c6-9ca7-424b-81cc-a1bb66958c66",
   "metadata": {},
   "outputs": [
    {
     "name": "stdout",
     "output_type": "stream",
     "text": [
      "['merah', 'hijau', 'kuning', 'biru']\n"
     ]
    }
   ],
   "source": [
    "#MERUBAH DARI TUPLE KE LIST\n",
    "warna =('merah','hijau','kuning','biru')\n",
    "warna =list(warna)\n",
    "print(warna)"
   ]
  },
  {
   "cell_type": "code",
   "execution_count": 38,
   "id": "0d2e285d-6d3b-401b-b92d-b7bdd3e3893d",
   "metadata": {},
   "outputs": [
    {
     "name": "stdout",
     "output_type": "stream",
     "text": [
      "durian\n"
     ]
    }
   ],
   "source": [
    "#INDEXING\n",
    "buah =('jambu','anggur','melon','semangka','durian')\n",
    "print(buah[4])"
   ]
  },
  {
   "cell_type": "code",
   "execution_count": 41,
   "id": "1dc2e348-b6ff-4a8f-84dc-b22c7a2289fa",
   "metadata": {},
   "outputs": [
    {
     "name": "stdout",
     "output_type": "stream",
     "text": [
      "('jambu', 'anggur', 'melon', 'semangka')\n"
     ]
    }
   ],
   "source": [
    "#SLICING\n",
    "#nama_list[index_awal : index_akhir+1]\n",
    "hasil_slicing =buah[0:4]\n",
    "print(hasil_slicing)"
   ]
  },
  {
   "cell_type": "code",
   "execution_count": 42,
   "id": "ccd937d6-5577-4796-b79d-a0d1e0c81d36",
   "metadata": {},
   "outputs": [
    {
     "ename": "SyntaxError",
     "evalue": "cannot assign to function call here. Maybe you meant '==' instead of '='? (1865809933.py, line 4)",
     "output_type": "error",
     "traceback": [
      "\u001b[1;36m  Cell \u001b[1;32mIn[42], line 4\u001b[1;36m\u001b[0m\n\u001b[1;33m    buah(2) ='alpukat'\u001b[0m\n\u001b[1;37m    ^\u001b[0m\n\u001b[1;31mSyntaxError\u001b[0m\u001b[1;31m:\u001b[0m cannot assign to function call here. Maybe you meant '==' instead of '='?\n"
     ]
    }
   ],
   "source": [
    "#MANIPULASI ELEMEN (BERSIFAT IMMUTABLE ARTINYA TIDAK DAPAT DI MANIPULASI)\n",
    "#MENGUBAH ELEMEN PADA TUPLE\n",
    "buah =('anggur','semangka','melon','cerry')\n",
    "buah(2) ='alpukat'\n",
    "print(buah)"
   ]
  },
  {
   "cell_type": "code",
   "execution_count": 43,
   "id": "53954365-2e25-4a5d-9396-f72ff478b0b3",
   "metadata": {},
   "outputs": [
    {
     "ename": "AttributeError",
     "evalue": "'tuple' object has no attribute 'append'",
     "output_type": "error",
     "traceback": [
      "\u001b[1;31m---------------------------------------------------------------------------\u001b[0m",
      "\u001b[1;31mAttributeError\u001b[0m                            Traceback (most recent call last)",
      "Cell \u001b[1;32mIn[43], line 2\u001b[0m\n\u001b[0;32m      1\u001b[0m \u001b[38;5;66;03m#MENAMBAHKAN ELEMEN\u001b[39;00m\n\u001b[1;32m----> 2\u001b[0m buah\u001b[38;5;241m.\u001b[39mappend(\u001b[38;5;124m'\u001b[39m\u001b[38;5;124mrasberry\u001b[39m\u001b[38;5;124m'\u001b[39m)\n\u001b[0;32m      3\u001b[0m \u001b[38;5;28mprint\u001b[39m(buah)\n",
      "\u001b[1;31mAttributeError\u001b[0m: 'tuple' object has no attribute 'append'"
     ]
    }
   ],
   "source": [
    "#MENAMBAHKAN ELEMEN\n",
    "buah.append('rasberry')\n",
    "print(buah)"
   ]
  },
  {
   "cell_type": "code",
   "execution_count": 44,
   "id": "6f6d511e-b025-4bbc-bf9c-1954f31f28f5",
   "metadata": {},
   "outputs": [
    {
     "ename": "TypeError",
     "evalue": "'tuple' object doesn't support item deletion",
     "output_type": "error",
     "traceback": [
      "\u001b[1;31m---------------------------------------------------------------------------\u001b[0m",
      "\u001b[1;31mTypeError\u001b[0m                                 Traceback (most recent call last)",
      "Cell \u001b[1;32mIn[44], line 3\u001b[0m\n\u001b[0;32m      1\u001b[0m \u001b[38;5;66;03m#MENGHAPUS ELEMEN\u001b[39;00m\n\u001b[0;32m      2\u001b[0m buah \u001b[38;5;241m=\u001b[39m(\u001b[38;5;124m'\u001b[39m\u001b[38;5;124manggur\u001b[39m\u001b[38;5;124m'\u001b[39m,\u001b[38;5;124m'\u001b[39m\u001b[38;5;124msemangka\u001b[39m\u001b[38;5;124m'\u001b[39m,\u001b[38;5;124m'\u001b[39m\u001b[38;5;124mmelon\u001b[39m\u001b[38;5;124m'\u001b[39m,\u001b[38;5;124m'\u001b[39m\u001b[38;5;124mcerry\u001b[39m\u001b[38;5;124m'\u001b[39m)\n\u001b[1;32m----> 3\u001b[0m \u001b[38;5;28;01mdel\u001b[39;00m(buah[\u001b[38;5;241m3\u001b[39m])\n\u001b[0;32m      4\u001b[0m \u001b[38;5;28mprint\u001b[39m(buah)\n",
      "\u001b[1;31mTypeError\u001b[0m: 'tuple' object doesn't support item deletion"
     ]
    }
   ],
   "source": [
    "#MENGHAPUS ELEMEN\n",
    "buah =('anggur','semangka','melon','cerry')\n",
    "del(buah[3])\n",
    "print(buah)"
   ]
  },
  {
   "cell_type": "code",
   "execution_count": 46,
   "id": "f4983755-6f5d-4957-a340-cbfc9ae7eb1a",
   "metadata": {},
   "outputs": [
    {
     "name": "stdout",
     "output_type": "stream",
     "text": [
      "{'buaya', 'katak', 'kucing', 'ular'}\n"
     ]
    }
   ],
   "source": [
    "#PART 3\n",
    "#SET HANYA MENYIMPAN DATA YANG BERBEDA\n",
    "#MEMBUAT SET\n",
    "hewan ={'kucing','katak','ular','buaya'}\n",
    "print(hewan)"
   ]
  },
  {
   "cell_type": "code",
   "execution_count": 48,
   "id": "eba27fe8-1f66-4fcd-bc2e-f43769f85e14",
   "metadata": {},
   "outputs": [
    {
     "name": "stdout",
     "output_type": "stream",
     "text": [
      "{'buaya', 'katak', 'kucing', 'ular'}\n"
     ]
    }
   ],
   "source": [
    "#MEMBUUAT LIST KE SET\n",
    "hewan =['kucing','katak','ular','buaya']\n",
    "hewan =set(hewan)\n",
    "print(hewan)"
   ]
  },
  {
   "cell_type": "code",
   "execution_count": 50,
   "id": "bd52c7b8-e4fd-4540-8ea7-f866c81d5c49",
   "metadata": {},
   "outputs": [
    {
     "name": "stdout",
     "output_type": "stream",
     "text": [
      "{'sapi', 'kucing', 'ular', 'katak', 'buaya'}\n"
     ]
    }
   ],
   "source": [
    "#DI DALAM SET TIDAK DAPAT MELAKUKAN PROSES INDEXING DAN SLICING\n",
    "\n",
    "#MANIPULASI ELEMEN\n",
    "#MENAMBAHKAN ELEMEN\n",
    "hewan ={'kucing','katak','ular','buaya'}\n",
    "hewan.add('sapi')\n",
    "print(hewan)"
   ]
  },
  {
   "cell_type": "code",
   "execution_count": 51,
   "id": "5e6de36e-df59-4329-b405-41b0956598ec",
   "metadata": {},
   "outputs": [
    {
     "name": "stdout",
     "output_type": "stream",
     "text": [
      "{'sapi', 'kucing', 'ular', 'buaya'}\n"
     ]
    }
   ],
   "source": [
    "#MENGHAPUS ELEMEN\n",
    "hewan.remove('katak')\n",
    "print(hewan)"
   ]
  },
  {
   "cell_type": "code",
   "execution_count": null,
   "id": "d0811d5e-6f3f-44c4-9785-31464eeb0687",
   "metadata": {},
   "outputs": [],
   "source": []
  }
 ],
 "metadata": {
  "kernelspec": {
   "display_name": "Python 3 (ipykernel)",
   "language": "python",
   "name": "python3"
  },
  "language_info": {
   "codemirror_mode": {
    "name": "ipython",
    "version": 3
   },
   "file_extension": ".py",
   "mimetype": "text/x-python",
   "name": "python",
   "nbconvert_exporter": "python",
   "pygments_lexer": "ipython3",
   "version": "3.12.5"
  }
 },
 "nbformat": 4,
 "nbformat_minor": 5
}
