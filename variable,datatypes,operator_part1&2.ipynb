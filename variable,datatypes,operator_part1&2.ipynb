{
 "cells": [
  {
   "cell_type": "code",
   "execution_count": 1,
   "id": "67cf7fda-01d8-4759-abcb-fa56ebf37b7e",
   "metadata": {},
   "outputs": [],
   "source": [
    "#PART 1\n",
    "#VARIABLE\n",
    "nama_lengkap ='sabella oktaviana'"
   ]
  },
  {
   "cell_type": "code",
   "execution_count": 3,
   "id": "a0a4748a-58f0-4169-8de4-9651622599fa",
   "metadata": {},
   "outputs": [
    {
     "data": {
      "text/plain": [
       "int"
      ]
     },
     "execution_count": 3,
     "metadata": {},
     "output_type": "execute_result"
    }
   ],
   "source": [
    "#DATA TYPE\n",
    "#MENGETAHUI TYPE VARIABLE\n",
    "#INTAGER\n",
    "nilai = 50\n",
    "nilai = 100\n",
    "type(nilai)"
   ]
  },
  {
   "cell_type": "code",
   "execution_count": 4,
   "id": "d9166326-14ad-4a58-a308-79a1c52c525b",
   "metadata": {},
   "outputs": [
    {
     "data": {
      "text/plain": [
       "float"
      ]
     },
     "execution_count": 4,
     "metadata": {},
     "output_type": "execute_result"
    }
   ],
   "source": [
    "#FLOAT (BILANGAN DESIMAL)\n",
    "phi = 3.14\n",
    "type(phi)"
   ]
  },
  {
   "cell_type": "code",
   "execution_count": 5,
   "id": "dd430799-39c7-4884-8666-a921ffa58113",
   "metadata": {},
   "outputs": [
    {
     "data": {
      "text/plain": [
       "str"
      ]
     },
     "execution_count": 5,
     "metadata": {},
     "output_type": "execute_result"
    }
   ],
   "source": [
    "#STRING\n",
    "nilai = '89'\n",
    "type(nilai)"
   ]
  },
  {
   "cell_type": "code",
   "execution_count": 6,
   "id": "faa8416a-587a-4a5d-8b35-572836a13355",
   "metadata": {},
   "outputs": [
    {
     "data": {
      "text/plain": [
       "bool"
      ]
     },
     "execution_count": 6,
     "metadata": {},
     "output_type": "execute_result"
    }
   ],
   "source": [
    "#BOOLEAN\n",
    "status_mahasiswa_aktif = True\n",
    "status_pembayaran_ukt = False\n",
    "type(status_mahasiswa_aktif)"
   ]
  },
  {
   "cell_type": "code",
   "execution_count": 7,
   "id": "fcd69e2b-1b39-4337-8cc9-9c9397bacfd1",
   "metadata": {},
   "outputs": [
    {
     "data": {
      "text/plain": [
       "int"
      ]
     },
     "execution_count": 7,
     "metadata": {},
     "output_type": "execute_result"
    }
   ],
   "source": [
    "#OVERWRITE VARIABLE\n",
    "nilai_fisika = 80\n",
    "type(nilai_fisika)\n"
   ]
  },
  {
   "cell_type": "code",
   "execution_count": 8,
   "id": "18ecd17c-6b86-42fe-9c60-1cbebfea9867",
   "metadata": {},
   "outputs": [
    {
     "data": {
      "text/plain": [
       "str"
      ]
     },
     "execution_count": 8,
     "metadata": {},
     "output_type": "execute_result"
    }
   ],
   "source": [
    "nilai_fisika = '80'\n",
    "type(nilai_fisika)"
   ]
  },
  {
   "cell_type": "code",
   "execution_count": 12,
   "id": "368ff294-dbb9-401f-a533-09698fa1073b",
   "metadata": {},
   "outputs": [
    {
     "name": "stdin",
     "output_type": "stream",
     "text": [
      "Masukkan Umur Anda:  21\n"
     ]
    },
    {
     "name": "stdout",
     "output_type": "stream",
     "text": [
      "Umur Anda Adalah 21\n"
     ]
    }
   ],
   "source": [
    "#PART 2\n",
    "#VARIABLE DAN INPUT\n",
    "umur =input(\"Masukkan Umur Anda: \")\n",
    "print(\"Umur Anda Adalah\", umur)"
   ]
  },
  {
   "cell_type": "code",
   "execution_count": 14,
   "id": "3c875931-b1bc-4e0a-82fc-025525165b81",
   "metadata": {},
   "outputs": [
    {
     "name": "stdout",
     "output_type": "stream",
     "text": [
      "x : -51\n",
      "y : -40\n",
      "z : 70\n"
     ]
    }
   ],
   "source": [
    "#OPERATOR UNARY\n",
    "x = ~50\n",
    "y = -40\n",
    "z = +70\n",
    "print('x :', x)\n",
    "print('y :', y)\n",
    "print('z :', z)\n"
   ]
  },
  {
   "cell_type": "code",
   "execution_count": 15,
   "id": "2f7a2a26-b988-4146-8531-1ec22404bd77",
   "metadata": {},
   "outputs": [
    {
     "name": "stdout",
     "output_type": "stream",
     "text": [
      "4.979582776044676e-69\n"
     ]
    }
   ],
   "source": [
    "#OPERATOR ARITMATIKA\n",
    "hasil_eksponen = x**y\n",
    "print(hasil_eksponen)"
   ]
  },
  {
   "cell_type": "code",
   "execution_count": 16,
   "id": "db6e9188-6ed0-4e85-bcc3-b54852fe0296",
   "metadata": {},
   "outputs": [
    {
     "name": "stdout",
     "output_type": "stream",
     "text": [
      "2040\n"
     ]
    }
   ],
   "source": [
    "hasil_perkalian =x*y\n",
    "print(hasil_perkalian)"
   ]
  },
  {
   "cell_type": "code",
   "execution_count": 18,
   "id": "e2a70feb-6ac2-4e7d-9be2-b6cc1b390ff5",
   "metadata": {},
   "outputs": [
    {
     "name": "stdout",
     "output_type": "stream",
     "text": [
      "harga setelah diberi diskon : 14000.0\n"
     ]
    }
   ],
   "source": [
    "harga_awal = 20000\n",
    "diskon = 0.3\n",
    "harga_akhir = harga_awal-harga_awal*diskon\n",
    "print('harga setelah diberi diskon :', harga_akhir)"
   ]
  },
  {
   "cell_type": "code",
   "execution_count": 20,
   "id": "bb6a15a2-b1a3-4ef2-996d-06a7daa205d0",
   "metadata": {},
   "outputs": [
    {
     "name": "stdout",
     "output_type": "stream",
     "text": [
      "True\n"
     ]
    }
   ],
   "source": [
    "#OPERTAOR PERBANDDINGAN\n",
    "x =10\n",
    "y =20\n",
    "a = x < y\n",
    "print(a)"
   ]
  },
  {
   "cell_type": "code",
   "execution_count": 21,
   "id": "6eabd8c0-4bb0-4ef0-85fa-e1437869ed5e",
   "metadata": {},
   "outputs": [
    {
     "name": "stdout",
     "output_type": "stream",
     "text": [
      "False\n"
     ]
    }
   ],
   "source": [
    "password1 = 'cantik123'\n",
    "password2 = 'cantik456'\n",
    "test = password1 == password2\n",
    "print(test)"
   ]
  },
  {
   "cell_type": "code",
   "execution_count": 22,
   "id": "8363807f-08da-49e4-9212-efeb4c2cd8d8",
   "metadata": {},
   "outputs": [
    {
     "name": "stdout",
     "output_type": "stream",
     "text": [
      "hasil or :  10\n",
      "hasil and :  20\n"
     ]
    }
   ],
   "source": [
    "#OPERATOR LOGIKA\n",
    "hasil_or = x or y\n",
    "hasil_and = x and y\n",
    "print('hasil or : ', hasil_or)\n",
    "print('hasil and : ', hasil_and)\n"
   ]
  },
  {
   "cell_type": "code",
   "execution_count": 23,
   "id": "0ff5dfb0-cf16-485c-ba94-2705ac1f063f",
   "metadata": {},
   "outputs": [
    {
     "name": "stdout",
     "output_type": "stream",
     "text": [
      "False\n"
     ]
    }
   ],
   "source": [
    "hasil_not = not x\n",
    "print(hasil_not)"
   ]
  },
  {
   "cell_type": "code",
   "execution_count": null,
   "id": "c7c0ff07-5c2a-4e02-adde-79c59399c9f9",
   "metadata": {},
   "outputs": [],
   "source": []
  }
 ],
 "metadata": {
  "kernelspec": {
   "display_name": "Python 3 (ipykernel)",
   "language": "python",
   "name": "python3"
  },
  "language_info": {
   "codemirror_mode": {
    "name": "ipython",
    "version": 3
   },
   "file_extension": ".py",
   "mimetype": "text/x-python",
   "name": "python",
   "nbconvert_exporter": "python",
   "pygments_lexer": "ipython3",
   "version": "3.12.5"
  }
 },
 "nbformat": 4,
 "nbformat_minor": 5
}
